{
 "cells": [
  {
   "cell_type": "code",
   "execution_count": 1,
   "metadata": {},
   "outputs": [],
   "source": [
    "%matplotlib inline\n",
    "%config InlineBackend.figure_format = \"retina\"\n",
    "from matplotlib import rcParams\n",
    "rcParams[\"savefig.dpi\"] = 100\n",
    "rcParams[\"figure.dpi\"] = 100\n",
    "\n",
    "import numpy as np\n",
    "import matplotlib.pyplot as plt"
   ]
  },
  {
   "cell_type": "code",
   "execution_count": 38,
   "metadata": {},
   "outputs": [],
   "source": [
    "def step1(dx, dy):\n",
    "    n = len(dx)\n",
    "    np1 = n + 1\n",
    "    \n",
    "    a = np.empty(np1)\n",
    "    a[0] = 3 * dy[0] / dx[0]\n",
    "    a[1:-1] = 3 * dy[1:] / dx[1:] - 3 * dy[:-1] / dx[:-1]\n",
    "    a[-1] = -3 * dy[-1] / dx[-1]\n",
    "    \n",
    "    return a\n",
    "\n",
    "def step1_rev(dx, dy, a, ba):\n",
    "    bdx = np.zeros_like(dx)\n",
    "    bdy = np.zeros_like(dy)\n",
    "    \n",
    "    # a[0] = 3 * dy[0] / dx[0]\n",
    "    bdy[0] += 3 * ba[0] / dx[0]\n",
    "    bdx[0] += -a[0] * ba[0] / dx[0]\n",
    "\n",
    "    # a[1:-1] = 3 * dy[1:] / dx[1:] - 3 * dy[:-1] / dx[:-1]\n",
    "    bdy[1:] += 3 * ba[1:-1] / dx[1:]\n",
    "    bdy[:-1] += -3 * ba[1:-1] / dx[:-1]\n",
    "    bdx[1:] += -3 * dy[1:] * ba[1:-1] / dx[1:]**2\n",
    "    bdx[:-1] += 3 * dy[:-1] * ba[1:-1] / dx[:-1]**2\n",
    "\n",
    "    # a[-1] = -3 * dy[-1] / dx[-1]\n",
    "    bdy[-1] += -3 * ba[-1] / dx[-1]\n",
    "    bdx[-1] += -a[-1] * ba[-1] / dx[-1]\n",
    "    \n",
    "    return bdx, bdy\n",
    "\n",
    "def step2(dx, a):\n",
    "    n = len(dx)\n",
    "    np1 = n + 1\n",
    "\n",
    "    l = np.empty(np1)\n",
    "    u = np.empty(n)\n",
    "    z = np.empty(np1)\n",
    "    l[0] = 2*dx[0]\n",
    "    u[0] = 0.5\n",
    "    z[0] = a[0] / l[0]\n",
    "    for i in range(1, n):\n",
    "        l[i] = 2*dx[i] + dx[i-1] * (2 - u[i-1])\n",
    "        u[i] = dx[i] / l[i]\n",
    "        z[i] = (a[i] - dx[i-1] * z[i-1]) / l[i]\n",
    "    l[-1] = dx[-1] * (2 - u[-1])\n",
    "    z[-1] = (a[-1] - dx[-1] * z[-2]) / l[-1]\n",
    "    \n",
    "    return u, l, z\n",
    "\n",
    "def step2_rev(dx, a, u, l, z, bu, bl, bz):\n",
    "    n = len(u)\n",
    "    \n",
    "    bu = np.array(bu)\n",
    "    bl = np.array(bl)\n",
    "    bz = np.array(bz)\n",
    "\n",
    "    ba = np.zeros_like(a)\n",
    "    bdx = np.zeros_like(dx)\n",
    "\n",
    "    # z[-1] = (a[-1] - dx[-1] * z[-2]) / l[-1]\n",
    "    ba[-1] += bz[-1] / l[-1]\n",
    "    bdx[-1] += -z[-2] * bz[-1] / l[-1]\n",
    "    bz[-2] += -dx[-1] * bz[-1] / l[-1]\n",
    "    bl[-1] += -z[-1] * bz[-1] / l[-1]\n",
    "    \n",
    "    # l[-1] = dx[-1] * (2 - u[-1])\n",
    "    bdx[-1] += (2 - u[-1]) * bl[-1]\n",
    "    bu[-1] += -dx[-1] * bl[-1]\n",
    "\n",
    "    # for i in range(1, n):\n",
    "    for i in range(n-1, 0, -1):\n",
    "        # z[i] = (a[i] - dx[i-1] * z[i-1]) / l[i]\n",
    "        ba[i] += bz[i] / l[i]\n",
    "        bl[i] += -z[i]*bz[i]/l[i]\n",
    "        bdx[i-1] += -z[i-1] * bz[i] / l[i]\n",
    "        bz[i-1] += -bz[i] * dx[i-1] / l[i]\n",
    "        \n",
    "        # u[i] = dx[i] / l[i]\n",
    "        bdx[i] += bu[i] / l[i]\n",
    "        bl[i] += -bu[i]*u[i]/l[i]\n",
    "\n",
    "        # l[i] = 2*dx[i] + dx[i-1] * (2 - u[i-1])\n",
    "        bdx[i] += 2*bl[i]\n",
    "        bdx[i-1] += (2-u[i-1])*bl[i]\n",
    "        bu[i-1] += -dx[i-1] * bl[i]\n",
    "        \n",
    "    # z[0] = a[0] / l[0]\n",
    "    ba[0] += bz[0] / l[0]\n",
    "    bl[0] += -z[0] * bz[0] / l[0]\n",
    "\n",
    "    # l[0] = 2*dx[0]\n",
    "    bdx[0] += 2*bl[0]\n",
    "    return bdx, ba\n",
    "\n",
    "def step3(z, u):\n",
    "    n = len(u)\n",
    "    c = np.empty_like(z)\n",
    "    c[-1] = z[-1]\n",
    "    for j in range(n-1, -1, -1):\n",
    "        c[j] = z[j] - u[j] * c[j+1]\n",
    "    return c\n",
    "\n",
    "def step3_rev(z, u, c, bc):\n",
    "    n = len(u)\n",
    "    bc = np.array(bc)\n",
    "    bu = np.zeros_like(u)\n",
    "    bz = np.zeros_like(z)\n",
    "    # for j in range(n-1, -1, -1):\n",
    "    for j in range(n):\n",
    "        # c[j] = z[j] - u[j] * c[j+1]\n",
    "        bz[j] += bc[j]\n",
    "        bc[j+1] += -bc[j] * u[j]\n",
    "        bu[j] += -c[j+1] * bc[j]\n",
    "    # c[-1] = z[-1]\n",
    "    bz[-1] += bc[-1]\n",
    "    return bz, bu\n",
    "\n",
    "def step4(dx, dy, c):\n",
    "    b = dy / dx - dx * (c[1:] + 2*c[:-1]) / 3\n",
    "    d = (c[1:] - c[:-1]) / (3*dx)\n",
    "    return b, d\n",
    "\n",
    "def step4_rev(dx, dy, c, b, d, bb, bd):\n",
    "    bc = np.zeros_like(c)\n",
    "    \n",
    "    # d = (c[1:] - c[:-1]) / (3*dx)\n",
    "    bdx = -d * bd / dx\n",
    "    bc[1:] += bd / (3*dx)\n",
    "    bc[:-1] += -bd / (3*dx)\n",
    "    \n",
    "    # b = dy / dx - dx * (c[1:] + 2*c[:-1]) / 3\n",
    "    bdy = bb / dx\n",
    "    bdx += -(dy/dx**2 + (c[1:]+2*c[:-1])/3) * bb\n",
    "    bc[1:] += -dx * bb / 3\n",
    "    bc[:-1] += -2 * dx * bb / 3\n",
    "\n",
    "    return bdx, bdy, bc\n",
    "\n",
    "def compute_polys(dx, dy):\n",
    "    n = len(dx)\n",
    "    np1 = n + 1\n",
    "    \n",
    "    # Step 1\n",
    "    a = step1(dx, dy)\n",
    "    \n",
    "    # Step 2\n",
    "    u, l, z = step2(dx, a)\n",
    "    \n",
    "    # Step 3\n",
    "    c = step3(z, u)    \n",
    "    \n",
    "    # Step 4\n",
    "    b, d = step4(dx, dy, c)\n",
    "    \n",
    "    return (np.vstack((\n",
    "        np.concatenate(([0.0], b, [0.0])),\n",
    "        np.concatenate(([0.0], c[:-1], [0.0])),\n",
    "        np.concatenate(([0.0], d, [0.0]))\n",
    "    )).T, a, z, u, l)\n",
    "\n",
    "def compute_polys_rev(dx, dy, P, a, z, u, l, bP):\n",
    "    n = len(dx)\n",
    "    np1 = n + 1\n",
    "\n",
    "    b = P[1:-1, 0]\n",
    "    c = P[1:, 1]\n",
    "    d = P[1:-1, 2]\n",
    "    \n",
    "    bb = np.array(bP[1:-1, 0])\n",
    "    bc = np.array(bP[1:, 1])\n",
    "    bd = np.array(bP[1:-1, 2])\n",
    "    bc[-1] = 0.0\n",
    "    \n",
    "    # Step 4\n",
    "    bdx, bdy, bc0 = step4_rev(dx, dy, c, b, d, bb, bd)\n",
    "    bc += bc0\n",
    "    \n",
    "    # Step 3\n",
    "    bz, bu = step3_rev(z, u, c, bc)\n",
    "    \n",
    "    # Step 2\n",
    "    bl = np.zeros_like(l)\n",
    "    bdx0, ba = step2_rev(dx, a, u, l, z, bu, bl, bz)\n",
    "    bdx += bdx0\n",
    "    \n",
    "    # Step 1\n",
    "    bdx0, bdy0 = step1_rev(dx, dy, a, ba)\n",
    "    bdx += bdx0\n",
    "    bdy += bdy0\n",
    "    \n",
    "    return bdx, bdy"
   ]
  },
  {
   "cell_type": "code",
   "execution_count": 39,
   "metadata": {},
   "outputs": [],
   "source": [
    "def check_grad(value, grad, f, args=None, eps=1e-8, ind=None, factor=None):\n",
    "    if args is None:\n",
    "        args = (value,)\n",
    "    if factor is None:\n",
    "        factor = 1.0\n",
    "    for i in range(len(value)):\n",
    "        value[i] += eps\n",
    "        r = f(*args)\n",
    "        if ind is None:\n",
    "            vp = np.sum(factor*r)\n",
    "        else:\n",
    "            vp = np.sum(factor*r[ind])\n",
    "\n",
    "        value[i] -= 2*eps\n",
    "        r = f(*args)\n",
    "        if ind is None:\n",
    "            vm = np.sum(factor*r)\n",
    "        else:\n",
    "            vm = np.sum(factor*r[ind])\n",
    "        value[i] += eps\n",
    "\n",
    "        est = 0.5 * (vp - vm) / eps\n",
    "        print(est, grad[i], est - grad[i])"
   ]
  },
  {
   "cell_type": "code",
   "execution_count": 40,
   "metadata": {},
   "outputs": [
    {
     "name": "stdout",
     "output_type": "stream",
     "text": [
      "b, dx:\n",
      "0.37288465648543934 0.3728846587726047 -2.2871653460043717e-09\n",
      "-0.21586099574477657 -0.2158610020351846 6.290408027798122e-09\n",
      "-0.38165188787075977 -0.3816518939812909 6.110531136638286e-09\n",
      "-0.8995274414225207 -0.8995274460952564 4.6727356428633016e-09\n",
      "14.722926833243832 14.722926841948997 -8.705164589173364e-09\n",
      "b, dy:\n",
      "-1.9821824182031378 -1.9821824145405578 -3.662580017049777e-09\n",
      "-0.7398056389718022 -0.7398056355787592 -3.3930429577111454e-09\n",
      "-2.9230032172478104 -2.9230032297555586 1.2507748170520472e-08\n",
      "-1.0514758952417935 -1.0514758874060683 -7.835725179816677e-09\n",
      "3.8310836947275106 3.831083678319443 1.64080677933498e-08\n",
      "b, c:\n",
      "0.18537411605734633 0.18537409667180624 1.938554008984461e-08\n",
      "0.5384730439317309 0.5384730580745506 -1.4142819693141462e-08\n",
      "1.2670192450769946 1.2670192435508913 1.5261032437763333e-09\n",
      "0.7732901208257204 0.7732901366387177 -1.581299735597952e-08\n",
      "0.0634431507329225 0.06344315224075128 -1.507828778501974e-09\n",
      "-0.031085178875400743 -0.031085178204107833 -6.712929101482246e-10\n",
      "d, dx:\n",
      "10.268985128902841 10.26898513499167 -6.088828996553275e-09\n",
      "-0.518009368732919 -0.5180093487680862 -1.996483278698946e-08\n",
      "0.010182699128336026 0.01018271169108596 -1.2562749934080797e-08\n",
      "-1.121941917148206 -1.1219419049504067 -1.219779921513009e-08\n",
      "9.007491907908616 9.00749191071106 -2.8024444986840535e-09\n",
      "d, dy:\n",
      "0.0 0.0 0.0\n",
      "0.0 0.0 0.0\n",
      "0.0 0.0 0.0\n",
      "0.0 0.0 0.0\n",
      "0.0 0.0 0.0\n",
      "d, c:\n",
      "-2.27789400675249 -2.277893966708249 -4.0044240812164844e-08\n",
      "2.1396704852350013 2.139670521024094 -3.5789092578397685e-08\n",
      "0.08256759720381979 0.08256762749517137 -3.029135157983642e-08\n",
      "0.3426506189896372 0.34265064395278705 -2.496314982503023e-08\n",
      "0.9954456814398327 0.9954456322133466 4.9226486109610335e-08\n",
      "-1.282440464933643 -1.2824404579771498 -6.956493159293586e-09\n"
     ]
    }
   ],
   "source": [
    "n = 5\n",
    "dx = np.random.rand(n)\n",
    "dy = np.random.randn(n)\n",
    "c = np.random.randn(n+1)\n",
    "b, d = step4(dx, dy, c)\n",
    "\n",
    "bb = np.random.randn(len(b))\n",
    "bd = np.zeros_like(d)\n",
    "bdx, bdy, bc = step4_rev(dx, dy, c, b, d, bb, bd)\n",
    "\n",
    "print(\"b, dx:\")\n",
    "check_grad(dx, bdx, step4, args=(dx, dy, c), ind=0, factor=bb)\n",
    "print(\"b, dy:\")\n",
    "check_grad(dy, bdy, step4, args=(dx, dy, c), ind=0, factor=bb)\n",
    "print(\"b, c:\")\n",
    "check_grad(c, bc, step4, args=(dx, dy, c), ind=0, factor=bb)\n",
    "\n",
    "bb = np.zeros_like(b)\n",
    "bd = np.random.randn(len(d))\n",
    "bdx, bdy, bc = step4_rev(dx, dy, c, b, d, bb, bd)\n",
    "\n",
    "print(\"d, dx:\")\n",
    "check_grad(dx, bdx, step4, args=(dx, dy, c), ind=1, factor=bd)\n",
    "print(\"d, dy:\")\n",
    "check_grad(dy, bdy, step4, args=(dx, dy, c), ind=1, factor=bd)\n",
    "print(\"d, c:\")\n",
    "check_grad(c, bc, step4, args=(dx, dy, c), ind=1, factor=bd)\n"
   ]
  },
  {
   "cell_type": "code",
   "execution_count": 41,
   "metadata": {},
   "outputs": [
    {
     "name": "stdout",
     "output_type": "stream",
     "text": [
      "u:\n",
      "-0.5415149662013619 -0.5415149576690333 -8.532328510391096e-09\n",
      "-0.9907974440892531 -0.9907974264373938 -1.7651859307576956e-08\n",
      "0.4605327452722463 0.4605327414742023 3.798043990421718e-09\n",
      "1.4006868109817106 1.4006868118071192 -8.254086303338681e-10\n",
      "-0.3335738130161303 -0.33357379448482316 -1.8531307155456034e-08\n",
      "z:\n",
      "2.7783130684966295 2.7783130415524404 2.694418910209606e-08\n",
      "-1.4386446700598299 -1.4386446866176694 1.6557839543906994e-08\n",
      "0.6373328309550175 0.6373328355947809 -4.6397634623218664e-09\n",
      "1.2868241583419149 1.286824130407729 2.7934185853339955e-08\n",
      "0.3054726693818566 0.3054726717144256 -2.332569026819442e-09\n",
      "-1.5338823988741979 -1.5338823634898375 -3.5384360330681375e-08\n"
     ]
    }
   ],
   "source": [
    "n = 5\n",
    "u = np.random.randn(n)\n",
    "z = np.random.randn(n+1)\n",
    "c = step3(z, u)\n",
    "bc = np.random.randn(len(c))\n",
    "bz, bu = step3_rev(z, u, c, bc)\n",
    "\n",
    "print(\"u:\")\n",
    "check_grad(u, bu, step3, args=(z, u), factor=bc)\n",
    "print(\"z:\")\n",
    "check_grad(z, bz, step3, args=(z, u), factor=bc)"
   ]
  },
  {
   "cell_type": "code",
   "execution_count": 42,
   "metadata": {},
   "outputs": [
    {
     "name": "stdout",
     "output_type": "stream",
     "text": [
      "u, dx:\n",
      "0.08197185707992105 0.08197186229483003 -5.214908976869381e-09\n",
      "-0.08116020355775078 -0.08116020449207223 9.343214535384448e-10\n",
      "-0.20360837182931135 -0.20360837106327562 -7.660357348449054e-10\n",
      "0.6025000193199403 0.6025000195151791 -1.9523871408466675e-10\n",
      "-0.09509477927327481 -0.09509477809881903 -1.1744557826265378e-09\n",
      "u, a:\n",
      "0.0 0.0 0.0\n",
      "0.0 0.0 0.0\n",
      "0.0 0.0 0.0\n",
      "0.0 0.0 0.0\n",
      "0.0 0.0 0.0\n",
      "0.0 0.0 0.0\n",
      "l, dx:\n",
      "-2.3134047899553423 -2.313404826412048 3.645670565433079e-08\n",
      "-3.9890430403310972 -3.9890430521842006 1.1853103387693409e-08\n",
      "-0.8782796157014161 -0.878279651098955 3.539753890002828e-08\n",
      "3.8408638158848873 3.8408638101959376 5.688949755722206e-09\n",
      "2.600915049999486 2.600915036536851 1.3462635006789014e-08\n",
      "l, a:\n",
      "0.0 0.0 0.0\n",
      "0.0 0.0 0.0\n",
      "0.0 0.0 0.0\n",
      "0.0 0.0 0.0\n",
      "0.0 0.0 0.0\n",
      "0.0 0.0 0.0\n",
      "z, dx:\n",
      "-2.1047748544056333 -2.1047748472262886 -7.179344674312915e-09\n",
      "-0.03956719396569497 -0.03956717157821646 -2.2387478509910963e-08\n",
      "-0.24931449127407745 -0.24931450579783748 1.4523760027973509e-08\n",
      "-1.5281109599918352 -1.5281109775888413 1.759700607451009e-08\n",
      "-1.0197101829589883 -1.0197101911368622 8.177873933590263e-09\n",
      "z, a:\n",
      "1.695599638473766 1.695599644731419 -6.257653062391455e-09\n",
      "0.30711095888591444 0.3071109323632981 2.652261632540842e-08\n",
      "-0.3286855787543175 -0.32868556255795184 -1.619636563754412e-08\n",
      "0.06963470911003355 0.0696347023352528 6.7747807502849255e-09\n",
      "0.9857572536020598 0.9857572375875429 1.6014516934781398e-08\n",
      "-0.03984008678514783 -0.03984008687040836 8.526052780455373e-11\n"
     ]
    }
   ],
   "source": [
    "n = 5\n",
    "dx = np.random.rand(n)\n",
    "a = np.random.randn(n+1)\n",
    "u, l, z = step2(dx, a)\n",
    "\n",
    "bu = np.random.randn(len(u))\n",
    "bl = np.zeros_like(l)\n",
    "bz = np.zeros_like(z)\n",
    "bdx, ba = step2_rev(dx, a, u, l, z, bu, bl, bz)\n",
    "\n",
    "print(\"u, dx:\")\n",
    "check_grad(dx, bdx, step2, args=(dx, a), ind=0, factor=bu)\n",
    "print(\"u, a:\")\n",
    "check_grad(a, ba, step2, args=(dx, a), ind=0, factor=bu)\n",
    "\n",
    "bu = np.zeros_like(u)\n",
    "bl = np.random.randn(len(l))\n",
    "bz = np.zeros_like(z)\n",
    "bdx, ba = step2_rev(dx, a, u, l, z, bu, bl, bz)\n",
    "\n",
    "print(\"l, dx:\")\n",
    "check_grad(dx, bdx, step2, args=(dx, a), ind=1, factor=bl)\n",
    "print(\"l, a:\")\n",
    "check_grad(a, ba, step2, args=(dx, a), ind=1, factor=bl)\n",
    "\n",
    "bu = np.zeros_like(u)\n",
    "bl = np.zeros_like(l)\n",
    "bz = np.random.randn(len(z))\n",
    "bdx, ba = step2_rev(dx, a, u, l, z, bu, bl, bz)\n",
    "\n",
    "print(\"z, dx:\")\n",
    "check_grad(dx, bdx, step2, args=(dx, a), ind=2, factor=bz)\n",
    "print(\"z, a:\")\n",
    "check_grad(a, ba, step2, args=(dx, a), ind=2, factor=bz)"
   ]
  },
  {
   "cell_type": "code",
   "execution_count": 43,
   "metadata": {},
   "outputs": [
    {
     "name": "stdout",
     "output_type": "stream",
     "text": [
      "dx:\n",
      "-16.50200260883139 -16.502002347680936 -2.611504541505383e-07\n",
      "-16.434279359600623 -16.434277120215963 -2.2393846599300105e-06\n",
      "7420.037822214454 7420.037823567084 -1.3526305338018574e-06\n",
      "-222.58260230501037 -222.58260210565857 -1.9935180262109498e-07\n",
      "-12.389766368414712 -12.389766513938524 1.4552381166765826e-07\n",
      "dy:\n",
      "5.513165035608836 5.513164831888713 2.0372012254910032e-07\n",
      "-4.952475762820541 -4.952475985762702 2.2294216162066505e-07\n",
      "-180.92316338425007 -180.923164029455 6.452049206018273e-07\n",
      "26.578739209526248 26.578739352724654 -1.431984060218383e-07\n",
      "20.494394448178355 20.49439407703657 3.711417839724618e-07\n"
     ]
    }
   ],
   "source": [
    "n = 5\n",
    "dx = np.random.rand(n)\n",
    "dy = np.random.randn(n)\n",
    "a = step1(dx, dy)\n",
    "ba = np.random.randn(len(a))\n",
    "bdx, bdy = step1_rev(dx, dy, a, ba)\n",
    "\n",
    "print(\"dx:\")\n",
    "check_grad(dx, bdx, step1, args=(dx, dy), factor=ba)\n",
    "print(\"dy:\")\n",
    "check_grad(dy, bdy, step1, args=(dx, dy), factor=ba)"
   ]
  },
  {
   "cell_type": "code",
   "execution_count": null,
   "metadata": {},
   "outputs": [],
   "source": []
  },
  {
   "cell_type": "code",
   "execution_count": 44,
   "metadata": {},
   "outputs": [
    {
     "data": {
      "text/plain": [
       "array([ 2.77831304,  1.19363972,  0.21863832,  0.88176104, -1.00908534,\n",
       "       -1.58329421])"
      ]
     },
     "execution_count": 44,
     "metadata": {},
     "output_type": "execute_result"
    }
   ],
   "source": [
    "bc"
   ]
  },
  {
   "cell_type": "code",
   "execution_count": 72,
   "metadata": {},
   "outputs": [],
   "source": [
    "np.random.seed(42)\n",
    "x = np.sort(np.random.uniform(1, 9, 8))\n",
    "# x = np.linspace(1, 9, 10)\n",
    "y = np.sin(x)\n",
    "dx = np.diff(x)\n",
    "dy = np.diff(y)\n",
    "\n",
    "P, a, z, u, l = compute_polys(dx, dy)\n",
    "bP = np.zeros_like(P)\n",
    "# inds = ([-3], [2])\n",
    "inds = tuple(a.flatten() for a in np.indices(bP.shape))\n",
    "bP[inds] = 1.0\n",
    "# print(bP)\n",
    "bx, by = compute_polys_rev(dx, dy, P, a, z, u, l, bP)\n",
    "# print(bx)\n",
    "# print(by)"
   ]
  },
  {
   "cell_type": "code",
   "execution_count": 73,
   "metadata": {},
   "outputs": [
    {
     "name": "stdout",
     "output_type": "stream",
     "text": [
      "1109.048954890568 1109.04895397054 9.200280146615114e-07\n",
      "-20918020.94517175 -20754729.073703527 -163291.87146822363\n",
      "1412.5571635631215 1412.5567347541137 0.00042880900787167775\n",
      "190.15637644343994 190.15093046044575 0.00544598299418908\n",
      "-196.03948379796063 -196.1758849016548 0.13640110369416902\n",
      "12.949656181149292 11.070306028023746 1.8793501531255465\n",
      "16.848048447570818 20.50102121111035 -3.6529727635395304\n"
     ]
    }
   ],
   "source": [
    "value = dx\n",
    "grad = bx\n",
    "\n",
    "eps = 1e-5\n",
    "\n",
    "for i in range(len(value)):\n",
    "    value[i] += eps\n",
    "    r = compute_polys(dx, dy)\n",
    "    vp = np.sum(r[0][inds])\n",
    "\n",
    "    value[i] -= 2*eps\n",
    "    r = compute_polys(dx, dy)\n",
    "    vm = np.sum(r[0][inds])\n",
    "    value[i] += eps\n",
    "\n",
    "    est = 0.5 * (vp - vm) / eps\n",
    "    print(est, grad[i], est - grad[i])"
   ]
  },
  {
   "cell_type": "code",
   "execution_count": 74,
   "metadata": {},
   "outputs": [
    {
     "data": {
      "text/plain": [
       "[<matplotlib.lines.Line2D at 0x11e63be80>]"
      ]
     },
     "execution_count": 74,
     "metadata": {},
     "output_type": "execute_result"
    },
    {
     "data": {
      "image/png": "[encoded data removed]",
      "text/plain": [
       "<Figure size 600x400 with 1 Axes>"
      ]
     },
     "metadata": {
      "image/png": {
       "height": 347,
       "width": 533
      }
     },
     "output_type": "display_data"
    }
   ],
   "source": [
    "t = np.linspace(0, 10, 500)\n",
    "m = np.searchsorted(x, t)\n",
    "\n",
    "xp = np.concatenate((x[:1], x, x[-1:]))\n",
    "yp = np.concatenate((y[:1], y, y[-1:]))\n",
    "\n",
    "poly = P[m]\n",
    "dd = t - xp[m]\n",
    "value = yp[m] + poly[:, 0] * dd + poly[:, 1] * dd**2 + poly[:, 2] * dd**3\n",
    "\n",
    "plt.plot(t, np.sin(t))\n",
    "plt.plot(t, value)\n",
    "plt.plot(x, y, \".\")"
   ]
  },
  {
   "cell_type": "code",
   "execution_count": null,
   "metadata": {},
   "outputs": [],
   "source": []
  },
  {
   "cell_type": "code",
   "execution_count": null,
   "metadata": {},
   "outputs": [],
   "source": []
  },
  {
   "cell_type": "code",
   "execution_count": 77,
   "metadata": {},
   "outputs": [],
   "source": [
    "def get_system(dx, dy):\n",
    "    A = np.diag(np.concatenate((\n",
    "        2*dx[:1], 2*(dx[1:]+dx[:-1]), 2*dx[-1:]\n",
    "    )))\n",
    "    A += np.diag(dx, k=1)\n",
    "    A += np.diag(dx, k=-1)\n",
    "    \n",
    "    Y = np.concatenate((\n",
    "        3 * dy[:1]/dx[:1],\n",
    "        3 * (dy[1:]/dx[1:] - dy[:-1]/dx[1:]),\n",
    "        -3 * dy[:1]/dx[:1],\n",
    "    ))\n",
    "    \n",
    "    return A, Y"
   ]
  },
  {
   "cell_type": "code",
   "execution_count": 79,
   "metadata": {},
   "outputs": [],
   "source": [
    "A, Y = get_system(dx, dy)"
   ]
  },
  {
   "cell_type": "code",
   "execution_count": 82,
   "metadata": {},
   "outputs": [
    {
     "data": {
      "text/plain": [
       "array([-1.42204185e+03,  2.84303232e+03, -1.25764318e+00,  6.96400213e-01,\n",
       "        1.68232759e-01, -1.32734338e-01, -1.09803477e+00,  1.15785694e+00])"
      ]
     },
     "execution_count": 82,
     "metadata": {},
     "output_type": "execute_result"
    }
   ],
   "source": [
    "c = np.linalg.solve(A, Y)\n",
    "c"
   ]
  },
  {
   "cell_type": "code",
   "execution_count": 96,
   "metadata": {},
   "outputs": [],
   "source": [
    "bc = np.random.randn(len(c))\n",
    "Ax = np.linalg.solve(A, bc)\n",
    "bA = -Ax[:, None] * c[None, :]"
   ]
  },
  {
   "cell_type": "code",
   "execution_count": 97,
   "metadata": {},
   "outputs": [
    {
     "data": {
      "text/plain": [
       "array([[-1.72646474e+03,  3.45165305e+03, -1.52687252e+00,\n",
       "         8.45481740e-01,  2.04247103e-01, -1.61149375e-01,\n",
       "        -1.33309601e+00,  1.40572459e+00],\n",
       "       [ 1.04163516e+03, -2.08250020e+03,  9.21214353e-01,\n",
       "        -5.10108017e-01, -1.23229254e-01,  9.72269228e-02,\n",
       "         8.04302365e-01, -8.48121665e-01],\n",
       "       [ 3.19562343e+02, -6.38888422e+02,  2.82618549e-01,\n",
       "        -1.56495594e-01, -3.78053956e-02,  2.98281629e-02,\n",
       "         2.46751222e-01, -2.60194507e-01],\n",
       "       [-3.86081683e+01,  7.71877921e+01, -3.41447756e-02,\n",
       "         1.89071346e-02,  4.56748771e-03, -3.60371226e-03,\n",
       "        -2.98114371e-02,  3.14355978e-02],\n",
       "       [-2.31600837e+01,  4.63030443e+01, -2.04826050e-02,\n",
       "         1.13419217e-02,  2.73992273e-03, -2.16177771e-03,\n",
       "        -1.78831426e-02,  1.88574364e-02],\n",
       "       [ 3.48971942e+01, -6.97685876e+01,  3.08628178e-02,\n",
       "        -1.70898019e-02, -4.12846589e-03,  3.25732746e-03,\n",
       "         2.69459950e-02, -2.84140432e-02],\n",
       "       [-5.15015599e+02,  1.02965043e+03, -4.55475948e-01,\n",
       "         2.52212671e-01,  6.09282316e-02, -4.80719006e-02,\n",
       "        -3.97671162e-01,  4.19336735e-01],\n",
       "       [-4.99286957e+02,  9.98204773e+02, -4.41565655e-01,\n",
       "         2.44510064e-01,  5.90674757e-02, -4.66037787e-02,\n",
       "        -3.85526234e-01,  4.06530138e-01]])"
      ]
     },
     "execution_count": 97,
     "metadata": {},
     "output_type": "execute_result"
    }
   ],
   "source": [
    "bA"
   ]
  },
  {
   "cell_type": "code",
   "execution_count": 103,
   "metadata": {},
   "outputs": [
    {
     "name": "stdout",
     "output_type": "stream",
     "text": [
      "True\n",
      "True\n",
      "True\n"
     ]
    }
   ],
   "source": [
    "print(np.allclose(np.diag(bA), -Ax*c))\n",
    "print(np.allclose(np.diag(bA, k=1), -Ax[:-1]*c[1:]))\n",
    "print(np.allclose(np.diag(bA, k=-1), -Ax[1:]*c[:-1]))"
   ]
  },
  {
   "cell_type": "code",
   "execution_count": 94,
   "metadata": {},
   "outputs": [
    {
     "name": "stdout",
     "output_type": "stream",
     "text": [
      "2605.0918704640935 2605.0918704401956 2.3897882783785462e-08\n"
     ]
    }
   ],
   "source": [
    "eps = 1e-5\n",
    "\n",
    "A[1, 0] += eps\n",
    "r = np.linalg.solve(A, Y)\n",
    "vp = np.sum(r * bc)\n",
    "\n",
    "A[1, 0] -= 2*eps\n",
    "r = np.linalg.solve(A, Y)\n",
    "vm = np.sum(r * bc)\n",
    "A[1, 0] += eps\n",
    "\n",
    "est = 0.5 * (vp - vm) / eps\n",
    "print(est, bA[1, 0], est - bA[1, 0])"
   ]
  },
  {
   "cell_type": "code",
   "execution_count": null,
   "metadata": {},
   "outputs": [],
   "source": []
  }
 ],
 "metadata": {
  "kernelspec": {
   "display_name": "Python 3",
   "language": "python",
   "name": "python3"
  },
  "language_info": {
   "codemirror_mode": {
    "name": "ipython",
    "version": 3
   },
   "file_extension": ".py",
   "mimetype": "text/x-python",
   "name": "python",
   "nbconvert_exporter": "python",
   "pygments_lexer": "ipython3",
   "version": "3.6.1"
  }
 },
 "nbformat": 4,
 "nbformat_minor": 2
}
